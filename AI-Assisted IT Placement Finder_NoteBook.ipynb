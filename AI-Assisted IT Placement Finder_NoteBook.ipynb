{
 "cells": [
  {
   "cell_type": "markdown",
   "id": "837498ae",
   "metadata": {},
   "source": [
    "## Project Description:\n",
    "    \n",
    "AI-Assisted IT Placement Finder: Streamlining Student Industrial Training in Abuja using the OpenAI API involves leveraging the capabilities of OpenAI's language models to provide places where student can have their Industrial training based on their courses, location and Other information."
   ]
  },
  {
   "cell_type": "markdown",
   "id": "003a75e2",
   "metadata": {},
   "source": [
    "## Import Libraries"
   ]
  },
  {
   "cell_type": "raw",
   "id": "2d81bf8c",
   "metadata": {},
   "source": [
    "pip install openai"
   ]
  },
  {
   "cell_type": "code",
   "execution_count": 16,
   "id": "fec9f19c",
   "metadata": {},
   "outputs": [],
   "source": [
    "# imports the built-in Python module os, which provides a way to interact with the operating system\n",
    "import os\n",
    "\n",
    "# imports the OpenAI Python package, allowing you to interact with OpenAI's APIs and access their language models.\n",
    "import openai"
   ]
  },
  {
   "cell_type": "markdown",
   "id": "a79ed8ee",
   "metadata": {},
   "source": [
    "## Define the Model and Client"
   ]
  },
  {
   "cell_type": "code",
   "execution_count": 17,
   "id": "1b91156a",
   "metadata": {},
   "outputs": [],
   "source": [
    "# Set your OpenAI API key\n",
    "openai.api_key = \"                                                                        \"\n",
    "\n",
    "# Define the language model engine to use\n",
    "model = \"gpt-3.5-turbo\"\n",
    "\n",
    "# Initialize the OpenAI API client\n",
    "client = openai.Client(api_key=openai.api_key)"
   ]
  },
  {
   "cell_type": "markdown",
   "id": "a5579d69",
   "metadata": {},
   "source": [
    "## Define the Conversation"
   ]
  },
  {
   "cell_type": "code",
   "execution_count": 18,
   "id": "2d9535e1",
   "metadata": {},
   "outputs": [],
   "source": [
    "conversation = [\n",
    "    {\"role\":\"system\", \n",
    "     \"content\":\"You are a recommender to provide companies where student cwhatan have their Industrial training based on their course, location and Other information they might ask. You speak in a concise manner.\"},\n",
    "    {\"role\":\"user\", \n",
    "     \"content\":\"As an Electrical and Electronics Engineering Student, where can I do my Industrial Training in Abuja?\"},\n",
    "    {\"role\":\"assistant\", \n",
    "     \"content\":\"The following are the companies I can recommend for you to have your Industrial training...\"}\n",
    "]"
   ]
  },
  {
   "cell_type": "markdown",
   "id": "0b831332",
   "metadata": {},
   "source": [
    "## Creating a conversation Loop"
   ]
  },
  {
   "cell_type": "code",
   "execution_count": 19,
   "id": "a5a1ca23",
   "metadata": {},
   "outputs": [
    {
     "name": "stdout",
     "output_type": "stream",
     "text": [
      "Ask your question (enter 'done' when finished): I live in Garki, Abuja. List the companies available in this area\n",
      "Ask your question (enter 'done' when finished): Out of this companies, recommend for me as an anatomy student, Where can I have my IT?\n",
      "Ask your question (enter 'done' when finished): done\n",
      "1. Nigerian Communications Satellite Ltd (NIGCOMSAT) - Garki\n",
      "2. National Agency for Science and Engineering Infrastructure (NASENI) - Garki\n",
      "3. Abuja Electricity Distribution Company (AEDC) - Garki\n",
      "4. Nigerian Electricity Regulatory Commission (NERC) - Garki\n",
      "5. Galaxy Backbone - Garki\n",
      "I recommend National Agency for Science and Engineering Infrastructure (NASENI) in Garki, Abuja for your Industrial Training as an Anatomy student.\n"
     ]
    }
   ],
   "source": [
    "# Initialize an empty list to store user questions\n",
    "questions = []\n",
    "\n",
    "# Prompt the user to input their questions\n",
    "while True:\n",
    "    question = input(\"Ask your question (enter 'done' when finished): \")\n",
    "    if question.lower() == 'done':\n",
    "        break\n",
    "    questions.append(question)\n",
    "\n",
    "# Loop through each question to generate responses\n",
    "for question in questions:\n",
    "    # Format the user input into dictionary form\n",
    "    input_dict = {\"role\": \"user\", \"content\": question}\n",
    "    \n",
    "    # Add the user input dictionary to the conversation\n",
    "    conversation.append(input_dict)\n",
    "\n",
    "    # Make the API call to generate responses for all questions\n",
    "    response = client.chat.completions.create(\n",
    "        model=model, \n",
    "        messages=conversation, \n",
    "        temperature=0.0, \n",
    "        max_tokens=100\n",
    "    )\n",
    "\n",
    "    # Print the response from the model\n",
    "    resp = response.choices[0].message.content\n",
    "    print(resp)\n",
    "    \n",
    "    # Convert the response into the dictionary\n",
    "    resp_dict = {\"role\":\"assistant\",\n",
    "                \"content\": resp}\n",
    "    \n",
    "    # Append the response to the conversation\n",
    "    conversation.append(resp_dict)"
   ]
  }
 ],
 "metadata": {
  "kernelspec": {
   "display_name": "Python 3 (ipykernel)",
   "language": "python",
   "name": "python3"
  },
  "language_info": {
   "codemirror_mode": {
    "name": "ipython",
    "version": 3
   },
   "file_extension": ".py",
   "mimetype": "text/x-python",
   "name": "python",
   "nbconvert_exporter": "python",
   "pygments_lexer": "ipython3",
   "version": "3.9.7"
  }
 },
 "nbformat": 4,
 "nbformat_minor": 5
}
